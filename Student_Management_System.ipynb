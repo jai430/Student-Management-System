{
  "nbformat": 4,
  "nbformat_minor": 0,
  "metadata": {
    "colab": {
      "provenance": []
    },
    "kernelspec": {
      "name": "python3",
      "display_name": "Python 3"
    },
    "language_info": {
      "name": "python"
    }
  },
  "cells": [
    {
      "cell_type": "code",
      "execution_count": 8,
      "metadata": {
        "id": "OhGwe8sRJel_"
      },
      "outputs": [],
      "source": [
        "import sqlite3\n",
        "\n",
        "# Connect to SQLite database\n",
        "conn = sqlite3.connect('students.db')\n",
        "cursor = conn.cursor()\n",
        "\n",
        "# Create table\n",
        "cursor.execute('''\n",
        "    CREATE TABLE IF NOT EXISTS students (\n",
        "        id INTEGER PRIMARY KEY AUTOINCREMENT,\n",
        "        name TEXT NOT NULL,\n",
        "        age INTEGER,\n",
        "        department TEXT\n",
        "    )\n",
        "''')\n",
        "conn.commit()\n"
      ]
    },
    {
      "cell_type": "markdown",
      "source": [
        "# Student class to manage operations"
      ],
      "metadata": {
        "id": "rptNDgruPi-P"
      }
    },
    {
      "cell_type": "code",
      "source": [
        "class Student:\n",
        "\n",
        "    @staticmethod\n",
        "    def add_student(name, age, department):\n",
        "        cursor.execute(\"INSERT INTO students (name, age, department) VALUES (?, ?, ?)\",\n",
        "                       (name, age, department))\n",
        "        conn.commit()\n",
        "        print(\"✅ Student added successfully.\\n\")\n",
        "\n",
        "    @staticmethod\n",
        "    def view_students():\n",
        "        cursor.execute(\"SELECT * FROM students\")\n",
        "        rows = cursor.fetchall()\n",
        "        print(\"\\n📋 Student Records:\")\n",
        "        for row in rows:\n",
        "            print(f\"ID: {row[0]}, Name: {row[1]}, Age: {row[2]}, Dept: {row[3]}\")\n",
        "        print()\n",
        "\n",
        "    @staticmethod\n",
        "    def update_student(student_id, name, age, department):\n",
        "        cursor.execute(\"UPDATE students SET name = ?, age = ?, department = ? WHERE id = ?\",\n",
        "                       (name, age, department, student_id))\n",
        "        conn.commit()\n",
        "        print(\"🔁 Student record updated.\\n\")\n",
        "\n",
        "    @staticmethod\n",
        "    def delete_student(student_id):\n",
        "        cursor.execute(\"DELETE FROM students WHERE id = ?\", (student_id,))\n",
        "        conn.commit()\n",
        "        print(\"❌ Student record deleted.\\n\")\n",
        "\n",
        "# Menu-driven CLI\n",
        "def main():\n",
        "    while True:\n",
        "        print(\"===== Student Management System =====\")\n",
        "        print(\"1. Add Student\")\n",
        "        print(\"2. View Students\")\n",
        "        print(\"3. Update Student\")\n",
        "        print(\"4. Delete Student\")\n",
        "        print(\"5. Exit\")\n",
        "\n",
        "        choice = input(\"Enter your choice (1-5): \")\n",
        "\n",
        "        if choice == '1':\n",
        "            name = input(\"Enter name: \")\n",
        "            age = int(input(\"Enter age: \"))\n",
        "            dept = input(\"Enter department: \")\n",
        "            Student.add_student(name, age, dept)\n",
        "\n",
        "        elif choice == '2':\n",
        "            Student.view_students()\n",
        "\n",
        "        elif choice == '3':\n",
        "            student_id = int(input(\"Enter student ID to update: \"))\n",
        "            name = input(\"Enter new name: \")\n",
        "            age = int(input(\"Enter new age: \"))\n",
        "            dept = input(\"Enter new department: \")\n",
        "            Student.update_student(student_id, name, age, dept)\n",
        "\n",
        "        elif choice == '4':\n",
        "            student_id = int(input(\"Enter student ID to delete: \"))\n",
        "            Student.delete_student(student_id)\n",
        "\n",
        "        elif choice == '5':\n",
        "            print(\"👋 Exiting program.\")\n",
        "            break\n",
        "\n",
        "        else:\n",
        "            print(\"⚠️ Invalid choice. Please try again.\\n\")\n",
        "\n",
        "    conn.close()\n",
        "\n",
        "if __name__ == '__main__':\n",
        "    main()\n"
      ],
      "metadata": {
        "colab": {
          "base_uri": "https://localhost:8080/"
        },
        "id": "5ahOdXl5Pe4k",
        "outputId": "17ae7599-c030-4859-f609-a9626aa15943"
      },
      "execution_count": null,
      "outputs": [
        {
          "output_type": "stream",
          "name": "stdout",
          "text": [
            "===== Student Management System =====\n",
            "1. Add Student\n",
            "2. View Students\n",
            "3. Update Student\n",
            "4. Delete Student\n",
            "5. Exit\n"
          ]
        }
      ]
    }
  ]
}
